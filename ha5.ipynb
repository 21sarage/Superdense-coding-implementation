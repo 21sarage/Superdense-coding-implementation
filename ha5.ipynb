{
 "cells": [
  {
   "cell_type": "markdown",
   "metadata": {},
   "source": [
    "### HA5 - Superdense coding \n",
    "##### Araghi Agostino S5146307, Fazio Valentina S5175314, Giampietro Andrea S5208458, Ottonello Thomas S5224298, Rosselli Sara S5204959"
   ]
  },
  {
   "cell_type": "code",
   "execution_count": 174,
   "metadata": {},
   "outputs": [],
   "source": [
    "import cirq \n",
    "import matplotlib.pyplot as plt"
   ]
  },
  {
   "cell_type": "markdown",
   "metadata": {},
   "source": [
    "Definiamo una funzione per generare lo stato di Bell 1/sqrt(2) * ( |00> + |11> ):\n",
    " \n",
    "questo sarà lo stato entangled condiviso tra Alice e Bob"
   ]
  },
  {
   "cell_type": "code",
   "execution_count": 175,
   "metadata": {},
   "outputs": [],
   "source": [
    "def Bell():\n",
    "  circuito = cirq.Circuit()\n",
    "  a, b = cirq.LineQubit.range(2)\n",
    "  circuito.append(cirq.H(a)) \n",
    "  circuito.append(cirq.CNOT(a,b)) \n",
    "  return a, b, circuito"
   ]
  },
  {
   "cell_type": "markdown",
   "metadata": {},
   "source": [
    "Definiamo una funzione per stampare i risultati della simulazione e il circuito "
   ]
  },
  {
   "cell_type": "code",
   "execution_count": 176,
   "metadata": {},
   "outputs": [],
   "source": [
    "def stampaCircuito(circuito, simulatore):\n",
    "  print('Circuito:')\n",
    "  risultati= simulatore.simulate(circuito)\n",
    "  print(risultati)\n",
    "  print('\\n\\n')\n",
    "  print(circuito)\n",
    "  print('\\n')"
   ]
  },
  {
   "cell_type": "markdown",
   "metadata": {},
   "source": [
    "Definiamo una funzione per effettuare una misura su un qubit e stampare un istogramma con il numero di volte in cui abbiamo ottenuto il risultato atteso"
   ]
  },
  {
   "cell_type": "code",
   "execution_count": 177,
   "metadata": {},
   "outputs": [],
   "source": [
    "def misura(simulatore, a, b, circuito):\n",
    "  n = 1000\n",
    "  circuito.append(cirq.measure(a, b, key='risultato'))\n",
    "  campioni = simulatore.run(circuito, repetitions=n) # verifica per n ripetizioni il risultato\n",
    "  conteggi = campioni.histogram(key='risultato')\n",
    "  cirq.plot_state_histogram(conteggi, plt.subplot())\n",
    "  plt.show()"
   ]
  },
  {
   "cell_type": "markdown",
   "metadata": {},
   "source": [
    "Inizializziamo il simulatore"
   ]
  },
  {
   "cell_type": "code",
   "execution_count": 178,
   "metadata": {},
   "outputs": [],
   "source": [
    "s = cirq.Simulator()"
   ]
  },
  {
   "cell_type": "markdown",
   "metadata": {},
   "source": [
    "Creiamo lo stato di Bell"
   ]
  },
  {
   "cell_type": "code",
   "execution_count": 179,
   "metadata": {},
   "outputs": [],
   "source": [
    "a, b, circuito = Bell()"
   ]
  },
  {
   "cell_type": "markdown",
   "metadata": {},
   "source": [
    "Creiamo un dizionario in modo da applicare le operazioni necessarie per ogni possibile messaggio inviato da Alice"
   ]
  },
  {
   "cell_type": "code",
   "execution_count": 180,
   "metadata": {},
   "outputs": [],
   "source": [
    "messaggio = {\n",
    "        \"00\": [],\n",
    "        \"01\": [cirq.X(a)],\n",
    "        \"10\": [cirq.Z(a)],\n",
    "        \"11\": [cirq.Z(a), cirq.X(a)]}"
   ]
  },
  {
   "cell_type": "markdown",
   "metadata": {},
   "source": [
    "Alice sceglie il messaggio da inviare, la parte seguente cambia in base al messaggio scelto"
   ]
  },
  {
   "cell_type": "code",
   "execution_count": 181,
   "metadata": {},
   "outputs": [
    {
     "name": "stdout",
     "output_type": "stream",
     "text": [
      "Alice manda =  11\n"
     ]
    }
   ],
   "source": [
    "m = \"00\" # modificare il messaggio a piacere\n",
    "print(\"Alice manda = \", m) "
   ]
  },
  {
   "cell_type": "markdown",
   "metadata": {},
   "source": [
    "Alice codifica il messaggio con le operazioni da effettuare"
   ]
  },
  {
   "cell_type": "code",
   "execution_count": 182,
   "metadata": {},
   "outputs": [],
   "source": [
    "circuito.append(messaggio[m])"
   ]
  },
  {
   "cell_type": "markdown",
   "metadata": {},
   "source": [
    "Stampiamo i risultati e il circuito"
   ]
  },
  {
   "cell_type": "code",
   "execution_count": 183,
   "metadata": {},
   "outputs": [
    {
     "name": "stdout",
     "output_type": "stream",
     "text": [
      "Circuito:\n",
      "measurements: (no measurements)\n",
      "\n",
      "qubits: (cirq.LineQubit(0), cirq.LineQubit(1))\n",
      "output vector: -0.707|01⟩ + 0.707|10⟩\n",
      "\n",
      "phase:\n",
      "output vector: |⟩\n",
      "\n",
      "\n",
      "\n",
      "0: ───H───@───Z───X───\n",
      "          │\n",
      "1: ───────X───────────\n",
      "\n",
      "\n"
     ]
    }
   ],
   "source": [
    "stampaCircuito(circuito, s)"
   ]
  },
  {
   "cell_type": "markdown",
   "metadata": {},
   "source": [
    "Bob riceve lo stato entangled e cerca di ottenere la stringa originale"
   ]
  },
  {
   "cell_type": "code",
   "execution_count": 184,
   "metadata": {},
   "outputs": [
    {
     "name": "stdout",
     "output_type": "stream",
     "text": [
      "Circuito:\n",
      "measurements: (no measurements)\n",
      "\n",
      "qubits: (cirq.LineQubit(0), cirq.LineQubit(1))\n",
      "output vector: -1|11⟩\n",
      "\n",
      "phase:\n",
      "output vector: |⟩\n",
      "\n",
      "\n",
      "\n",
      "0: ───H───@───Z───X───@───H───\n",
      "          │           │\n",
      "1: ───────X───────────X───────\n",
      "\n",
      "\n",
      "Counter({3: 1000})\n"
     ]
    },
    {
     "data": {
      "image/png": "[encoded data removed]",
      "text/plain": [
       "<Figure size 640x480 with 1 Axes>"
      ]
     },
     "metadata": {},
     "output_type": "display_data"
    }
   ],
   "source": [
    "circuito.append(cirq.CNOT(a,b))\n",
    "circuito.append(cirq.H(a))\n",
    "stampaCircuito(circuito, s) \n",
    "misura(s, a, b, circuito) \n"
   ]
  }
 ],
 "metadata": {
  "kernelspec": {
   "display_name": "Python 3",
   "language": "python",
   "name": "python3"
  },
  "language_info": {
   "codemirror_mode": {
    "name": "ipython",
    "version": 3
   },
   "file_extension": ".py",
   "mimetype": "text/x-python",
   "name": "python",
   "nbconvert_exporter": "python",
   "pygments_lexer": "ipython3",
   "version": "3.10.1"
  }
 },
 "nbformat": 4,
 "nbformat_minor": 2
}
